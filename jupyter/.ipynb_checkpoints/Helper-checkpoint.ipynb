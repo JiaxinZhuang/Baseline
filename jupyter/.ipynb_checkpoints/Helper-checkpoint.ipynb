{
 "cells": [
  {
   "cell_type": "code",
   "execution_count": 1,
   "metadata": {},
   "outputs": [],
   "source": [
    "%load_ext autoreload\n",
    "%autoreload 2"
   ]
  },
  {
   "cell_type": "code",
   "execution_count": 2,
   "metadata": {
    "scrolled": true
   },
   "outputs": [],
   "source": [
    "import torch\n",
    "import torchvision\n",
    "import numpy as np\n",
    "import torchvision.transforms as transforms\n",
    "import sys\n",
    "sys.path.append('../src')\n",
    "import dataset"
   ]
  },
  {
   "cell_type": "markdown",
   "metadata": {},
   "source": [
    "# 0. Calculate mean, std for Different Dataset."
   ]
  },
  {
   "cell_type": "code",
   "execution_count": 3,
   "metadata": {},
   "outputs": [],
   "source": [
    "def gen_mean_std(dataset, ratio=0.01):\n",
    "    \"\"\"sample 0.1\n",
    "    \"\"\"\n",
    "    dataloader = torch.utils.data.DataLoader(dataset, batch_size=int(len(dataset)*ratio), shuffle=True, num_workers=10)\n",
    "    train = iter(dataloader).next()[0]\n",
    "    mean = np.mean(train.numpy(), axis=(0,2,3))\n",
    "    std = np.std(train.numpy(), axis=(0,2,3))\n",
    "    return mean, std"
   ]
  },
  {
   "cell_type": "markdown",
   "metadata": {},
   "source": [
    "# 1. Differen Dataset"
   ]
  },
  {
   "cell_type": "code",
   "execution_count": 13,
   "metadata": {},
   "outputs": [],
   "source": [
    "root = \"/media/lincolnzjx/HardDisk/Datasets/\""
   ]
  },
  {
   "cell_type": "code",
   "execution_count": 31,
   "metadata": {},
   "outputs": [
    {
     "name": "stdout",
     "output_type": "stream",
     "text": [
      "[0.1312083] [0.30883086]\n"
     ]
    }
   ],
   "source": [
    "# MNIST\n",
    "train_dataset = torchvision.datasets.MNIST(root=root, train=True, download=True, \n",
    "                                           transform=transforms.Compose([transforms.ToTensor()]))\n",
    "train_mean, train_std = gen_mean_std(train_dataset)\n",
    "print(train_mean, train_std)"
   ]
  },
  {
   "cell_type": "code",
   "execution_count": 14,
   "metadata": {},
   "outputs": [
    {
     "name": "stdout",
     "output_type": "stream",
     "text": [
      "[0.5026254  0.4948873  0.46122327] [0.24966875 0.24641208 0.26357505]\n"
     ]
    }
   ],
   "source": [
    "# cifar10\n",
    "train_dataset = torchvision.datasets.CIFAR10(root=root, train=True, download=False, \n",
    "                                             transform=transforms.Compose([transforms.ToTensor()]))\n",
    "train_mean, train_std = gen_mean_std(train_dataset)\n",
    "print(train_mean, train_std)"
   ]
  },
  {
   "cell_type": "code",
   "execution_count": 23,
   "metadata": {
    "scrolled": true
   },
   "outputs": [
    {
     "name": "stdout",
     "output_type": "stream",
     "text": [
      "[0.50506747 0.48845497 0.44247457] [0.26713216 0.25607005 0.27683014]\n"
     ]
    }
   ],
   "source": [
    "# cifar100\n",
    "train_dataset = torchvision.datasets.CIFAR100(root=root, train=True, download=False, \n",
    "                                              transform=transforms.Compose([transforms.ToTensor()]))\n",
    "train_mean, train_std = gen_mean_std(train_dataset)\n",
    "print(train_mean, train_std)"
   ]
  },
  {
   "cell_type": "code",
   "execution_count": 28,
   "metadata": {
    "scrolled": true
   },
   "outputs": [
    {
     "name": "stdout",
     "output_type": "stream",
     "text": [
      "[0.43760365 0.4415745  0.47046193] [0.20026022 0.20333154 0.1995263 ]\n"
     ]
    }
   ],
   "source": [
    "# SVHN\n",
    "train_dataset = torchvision.datasets.SVHN(root=root+\"SVHN\", split=\"train\", download=False, \n",
    "                                          transform=transforms.Compose([transforms.ToTensor()]))\n",
    "train_mean, train_std = gen_mean_std(train_dataset)\n",
    "print(train_mean, train_std)"
   ]
  }
 ],
 "metadata": {
  "kernelspec": {
   "display_name": "Python 3",
   "language": "python",
   "name": "python3"
  },
  "language_info": {
   "codemirror_mode": {
    "name": "ipython",
    "version": 3
   },
   "file_extension": ".py",
   "mimetype": "text/x-python",
   "name": "python",
   "nbconvert_exporter": "python",
   "pygments_lexer": "ipython3",
   "version": "3.6.10"
  }
 },
 "nbformat": 4,
 "nbformat_minor": 2
}
